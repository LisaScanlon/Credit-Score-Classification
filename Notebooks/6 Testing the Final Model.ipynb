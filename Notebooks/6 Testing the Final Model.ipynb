{
 "cells": [
  {
   "cell_type": "markdown",
   "id": "84444223",
   "metadata": {},
   "source": [
    "In this notebook I will be testing different variations to make sure that the final model is returning accurate predictions. "
   ]
  },
  {
   "cell_type": "code",
   "execution_count": 1,
   "id": "49fba146",
   "metadata": {},
   "outputs": [],
   "source": [
    "import joblib  # Import joblib to load the saved model\n",
    "\n",
    "# Load the saved model\n",
    "model = joblib.load('best_bagging_model.pkl')"
   ]
  },
  {
   "cell_type": "markdown",
   "id": "7fa5d182",
   "metadata": {},
   "source": [
    "The order of columns that are being fed into the model is as follows: Age, Monthly In Hand Salary, Interest Rate, Delay from Due Date, Number of Delayed Payments, Changed Credit Limit, Credit Mix, Outstanding Debt, Credit Utilization Ratio, Credit History Age, Total EMI Per Month, and Amount Invested Monthly. "
   ]
  },
  {
   "cell_type": "markdown",
   "id": "704e9e88",
   "metadata": {},
   "source": [
    "Instead of entering Good, Standard or Poor for the Credit Mix I will just put 2, 1, or 0 for now so that it is in the proper form that the model needs, but in the actual application I have added preprocessing to make sure the string input is label encoded. "
   ]
  },
  {
   "cell_type": "code",
   "execution_count": 11,
   "id": "16d522b1",
   "metadata": {},
   "outputs": [
    {
     "name": "stdout",
     "output_type": "stream",
     "text": [
      "Prediction for Row 1: ['Standard']\n",
      "Prediction for Row 2: ['Standard']\n",
      "Prediction for Row 3: ['Poor']\n",
      "Prediction for Row 4: ['Standard']\n",
      "Prediction for Row 5: ['Standard']\n",
      "Prediction for Row 6: ['Standard']\n"
     ]
    }
   ],
   "source": [
    "import pandas as pd\n",
    "from sklearn.preprocessing import MinMaxScaler, RobustScaler\n",
    "\n",
    "# Define column names\n",
    "columns = ['Age', 'Monthly_Inhand_Salary', 'Interest_Rate', 'Delay_from_due_date',\n",
    "           'Num_of_Delayed_Payment', 'Changed_Credit_Limit', 'Credit_Mix',\n",
    "           'Outstanding_Debt', 'Credit_Utilization_Ratio', 'Credit_History_Age',\n",
    "           'Total_EMI_per_month', 'Amount_invested_monthly']\n",
    "\n",
    "# Define values for three rows\n",
    "row_values_1 = [12, 2000.0, 4, 5, 2, 0.1, 'Good', 15000.0, 0.5, 3.5, 200.0, 300.0]\n",
    "row_values_2 = [60, 5000.0, 10, 20, 5, 0.1, 'Standard', 50000.0, 0.1, 10.0, 1000.0, 2000.0]\n",
    "row_values_3 = [25, 10000.0, 1, 1, 1, 0.01, 'Poor', 1000.0, 1.0, 0.1, 50.0, 100.0]\n",
    "row_values_4 = [40, 1800.0, 7, 12, 5, 0.3, 'Good', 22000.0, 0.8, 5.0, 350.0, 450.0]\n",
    "row_values_5 = [35, 2500.0, 2, 25, 10, 0.6, 'Standard', 30000.0, 0.2, 6.0, 500.0, 700.0]\n",
    "row_values_6 = [55, 2200.0, 8, 18, 7, 0.5, 'Standard', 27000.0, 1.0, 7.0, 450.0, 550.0]\n",
    "\n",
    "# Create a list of dictionaries, each dictionary represents a row\n",
    "data_dicts = [\n",
    "    dict(zip(columns, row_values_1)),\n",
    "    dict(zip(columns, row_values_2)),\n",
    "    dict(zip(columns, row_values_3)),\n",
    "    dict(zip(columns, row_values_4)),\n",
    "    dict(zip(columns, row_values_5)),\n",
    "    dict(zip(columns, row_values_6))\n",
    "]\n",
    "\n",
    "# Convert the list of dictionaries into a DataFrame\n",
    "df = pd.DataFrame(data_dicts)\n",
    "\n",
    "# Define the appropriate scalers for each column based on the columns characteristics\n",
    "scalers = {\n",
    "    'Age': MinMaxScaler(),\n",
    "    'Monthly_Inhand_Salary': RobustScaler(),\n",
    "    'Interest_Rate': MinMaxScaler(),\n",
    "    'Delay_from_due_date': RobustScaler(),\n",
    "    'Num_of_Delayed_Payment': RobustScaler(),\n",
    "    'Changed_Credit_Limit': RobustScaler(),\n",
    "    'Outstanding_Debt': RobustScaler(),\n",
    "    'Credit_Utilization_Ratio': MinMaxScaler(),\n",
    "    'Credit_History_Age': MinMaxScaler(),\n",
    "    'Total_EMI_per_month': MinMaxScaler(),\n",
    "    'Amount_invested_monthly': MinMaxScaler(),\n",
    "}\n",
    "\n",
    "# Define ordinal mappings for the 'Credit_Mix' column\n",
    "credit_mix_mapping = {'Good': 2, 'Standard': 1, 'Poor': 0}\n",
    "\n",
    "# Function to scale a single column\n",
    "def scale_column(scaler, column, df):\n",
    "    return scaler.fit_transform(df[[column]]).flatten()\n",
    "\n",
    "# Apply scaling to input data\n",
    "scaled_df = pd.DataFrame()\n",
    "for column in df.columns:\n",
    "    scaler = scalers.get(column)\n",
    "    if scaler:\n",
    "        scaled_column = scale_column(scaler, column, df)\n",
    "        scaled_df[column] = scaled_column\n",
    "    elif column == 'Credit_Mix':\n",
    "        df[column] = df[column].map(credit_mix_mapping)\n",
    "\n",
    "\n",
    "# Now, you can make predictions for each row in the DataFrame using your bagging model\n",
    "for index, row in df.iterrows():\n",
    "    # Extract the values for the row\n",
    "    input_data = pd.DataFrame([row])\n",
    "\n",
    "    # Make prediction\n",
    "    prediction = model.predict(input_data)\n",
    "\n",
    "    # Print prediction for the row\n",
    "    print(f\"Prediction for Row {index + 1}: {prediction}\")"
   ]
  },
  {
   "cell_type": "code",
   "execution_count": null,
   "id": "aaa6e58b",
   "metadata": {},
   "outputs": [],
   "source": []
  }
 ],
 "metadata": {
  "kernelspec": {
   "display_name": "Python 3 (ipykernel)",
   "language": "python",
   "name": "python3"
  },
  "language_info": {
   "codemirror_mode": {
    "name": "ipython",
    "version": 3
   },
   "file_extension": ".py",
   "mimetype": "text/x-python",
   "name": "python",
   "nbconvert_exporter": "python",
   "pygments_lexer": "ipython3",
   "version": "3.8.13"
  }
 },
 "nbformat": 4,
 "nbformat_minor": 5
}
