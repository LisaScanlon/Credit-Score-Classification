{
 "cells": [
  {
   "cell_type": "markdown",
   "id": "2ba8d0be",
   "metadata": {},
   "source": [
    "# Parameter Tuning and Complex Model Design"
   ]
  },
  {
   "cell_type": "code",
   "execution_count": 1,
   "id": "b3f6299b",
   "metadata": {},
   "outputs": [],
   "source": [
    "# Redo the original bagging model for comparison purposes"
   ]
  },
  {
   "cell_type": "code",
   "execution_count": 2,
   "id": "c086c4a6",
   "metadata": {},
   "outputs": [],
   "source": [
    "import pickle\n",
    "\n",
    "# Load the data from the pickle file\n",
    "with open('train_test_data.pkl', 'rb') as f:\n",
    "    X_train_full, X_test_full, y_train_full, y_test_full = pickle.load(f)\n",
    "\n",
    "# Randomly sample half of the data records\n",
    "X_train = X_train_full.sample(frac=0.5, random_state=42)\n",
    "y_train = y_train_full.loc[X_train.index]\n",
    "\n",
    "# Test set remains unchanged\n",
    "X_test = X_test_full\n",
    "y_test = y_test_full"
   ]
  },
  {
   "cell_type": "code",
   "execution_count": 3,
   "id": "2ffe4835",
   "metadata": {},
   "outputs": [
    {
     "name": "stderr",
     "output_type": "stream",
     "text": [
      "C:\\Users\\lisal\\anaconda3\\lib\\site-packages\\scipy\\__init__.py:146: UserWarning: A NumPy version >=1.16.5 and <1.23.0 is required for this version of SciPy (detected version 1.24.3\n",
      "  warnings.warn(f\"A NumPy version >={np_minversion} and <{np_maxversion}\"\n"
     ]
    }
   ],
   "source": [
    "from sklearn.model_selection import train_test_split\n",
    "from sklearn.metrics import accuracy_score\n",
    "from sklearn.ensemble import BaggingClassifier"
   ]
  },
  {
   "cell_type": "code",
   "execution_count": 4,
   "id": "e4722f80",
   "metadata": {},
   "outputs": [],
   "source": [
    "# Excluding the unncessary columns from the input features for the models by dropping them now\n",
    "columns_to_exclude = ['ID', 'Customer_ID', 'Month', 'SSN', 'Type_of_Loan', 'Name']  # List of columns to exclude\n",
    "X_train = X_train.drop(columns=columns_to_exclude)\n",
    "X_test = X_test.drop(columns=columns_to_exclude)"
   ]
  },
  {
   "cell_type": "code",
   "execution_count": 5,
   "id": "ed547e72",
   "metadata": {},
   "outputs": [
    {
     "name": "stdout",
     "output_type": "stream",
     "text": [
      "Bagging Classifier Accuracy: 0.7527803521779426\n"
     ]
    }
   ],
   "source": [
    "# Ensemble Methods - Bagging\n",
    "bagging = BaggingClassifier()\n",
    "bagging.fit(X_train, y_train)\n",
    "y_pred_bagging = bagging.predict(X_test)\n",
    "bagging_score = accuracy_score(y_test, y_pred_bagging)\n",
    "print(\"Bagging Classifier Accuracy:\", bagging_score)"
   ]
  },
  {
   "cell_type": "markdown",
   "id": "cdf98bd9",
   "metadata": {},
   "source": [
    "# Parameter Tuning"
   ]
  },
  {
   "cell_type": "code",
   "execution_count": 6,
   "id": "0e39777d",
   "metadata": {},
   "outputs": [
    {
     "name": "stdout",
     "output_type": "stream",
     "text": [
      "Feature importances: [3.78622297e-02 3.29724843e-02 3.40543632e-02 2.15194906e-02\n",
      " 2.73152281e-02 7.11877224e-02 1.67726987e-02 4.99807881e-02\n",
      " 3.59531639e-02 6.23535761e-02 2.63017145e-02 1.14449965e-01\n",
      " 1.78961901e-01 5.54248331e-02 5.84545541e-02 5.29199516e-03\n",
      " 4.67996267e-02 5.42067082e-02 2.11528955e-02 2.00014275e-05\n",
      " 3.49221820e-03 4.08546371e-03 3.96101613e-03 3.20407426e-03\n",
      " 2.96500314e-03 2.78623226e-03 3.56735217e-03 4.09106167e-03\n",
      " 2.79865506e-03 3.54748783e-03 3.09752193e-03 3.85592267e-03\n",
      " 3.98974589e-03 3.52230522e-03]\n"
     ]
    }
   ],
   "source": [
    "import numpy as np\n",
    "\n",
    "# Get feature importances from base estimators\n",
    "importances = []\n",
    "\n",
    "for estimator in bagging.estimators_:\n",
    "    if hasattr(estimator, 'feature_importances_'):\n",
    "        importances.append(estimator.feature_importances_)\n",
    "\n",
    "# Aggregate feature importances across all base estimators\n",
    "importances = np.mean(importances, axis=0)\n",
    "print(\"Feature importances:\", importances)"
   ]
  },
  {
   "cell_type": "code",
   "execution_count": 7,
   "id": "efadabf5",
   "metadata": {},
   "outputs": [
    {
     "data": {
      "text/plain": [
       "Index(['Age', 'Annual_Income', 'Monthly_Inhand_Salary', 'Num_Bank_Accounts',\n",
       "       'Num_Credit_Card', 'Interest_Rate', 'Num_of_Loan',\n",
       "       'Delay_from_due_date', 'Num_of_Delayed_Payment', 'Changed_Credit_Limit',\n",
       "       'Num_Credit_Inquiries', 'Credit_Mix', 'Outstanding_Debt',\n",
       "       'Credit_Utilization_Ratio', 'Credit_History_Age',\n",
       "       'Payment_of_Min_Amount', 'Total_EMI_per_month',\n",
       "       'Amount_invested_monthly', 'Payment_Behaviour', 'Monthly_Balance',\n",
       "       'x0_Architect', 'x0_Developer', 'x0_Doctor', 'x0_Engineer',\n",
       "       'x0_Entrepreneur', 'x0_Journalist', 'x0_Lawyer', 'x0_Manager',\n",
       "       'x0_Mechanic', 'x0_Media_Manager', 'x0_Musician', 'x0_Scientist',\n",
       "       'x0_Teacher', 'x0_Writer'],\n",
       "      dtype='object')"
      ]
     },
     "execution_count": 7,
     "metadata": {},
     "output_type": "execute_result"
    }
   ],
   "source": [
    "# Get feature names\n",
    "feature_names = X_train.columns  # Assuming X_train is a DataFrame\n",
    "feature_names"
   ]
  },
  {
   "cell_type": "code",
   "execution_count": 8,
   "id": "d1a362fd",
   "metadata": {},
   "outputs": [
    {
     "data": {
      "text/html": [
       "<div>\n",
       "<style scoped>\n",
       "    .dataframe tbody tr th:only-of-type {\n",
       "        vertical-align: middle;\n",
       "    }\n",
       "\n",
       "    .dataframe tbody tr th {\n",
       "        vertical-align: top;\n",
       "    }\n",
       "\n",
       "    .dataframe thead th {\n",
       "        text-align: right;\n",
       "    }\n",
       "</style>\n",
       "<table border=\"1\" class=\"dataframe\">\n",
       "  <thead>\n",
       "    <tr style=\"text-align: right;\">\n",
       "      <th></th>\n",
       "      <th>Column</th>\n",
       "      <th>Feature Importance</th>\n",
       "    </tr>\n",
       "  </thead>\n",
       "  <tbody>\n",
       "    <tr>\n",
       "      <th>12</th>\n",
       "      <td>Outstanding_Debt</td>\n",
       "      <td>0.178962</td>\n",
       "    </tr>\n",
       "    <tr>\n",
       "      <th>11</th>\n",
       "      <td>Credit_Mix</td>\n",
       "      <td>0.114450</td>\n",
       "    </tr>\n",
       "    <tr>\n",
       "      <th>5</th>\n",
       "      <td>Interest_Rate</td>\n",
       "      <td>0.071188</td>\n",
       "    </tr>\n",
       "    <tr>\n",
       "      <th>9</th>\n",
       "      <td>Changed_Credit_Limit</td>\n",
       "      <td>0.062354</td>\n",
       "    </tr>\n",
       "    <tr>\n",
       "      <th>14</th>\n",
       "      <td>Credit_History_Age</td>\n",
       "      <td>0.058455</td>\n",
       "    </tr>\n",
       "    <tr>\n",
       "      <th>13</th>\n",
       "      <td>Credit_Utilization_Ratio</td>\n",
       "      <td>0.055425</td>\n",
       "    </tr>\n",
       "    <tr>\n",
       "      <th>17</th>\n",
       "      <td>Amount_invested_monthly</td>\n",
       "      <td>0.054207</td>\n",
       "    </tr>\n",
       "    <tr>\n",
       "      <th>7</th>\n",
       "      <td>Delay_from_due_date</td>\n",
       "      <td>0.049981</td>\n",
       "    </tr>\n",
       "    <tr>\n",
       "      <th>16</th>\n",
       "      <td>Total_EMI_per_month</td>\n",
       "      <td>0.046800</td>\n",
       "    </tr>\n",
       "    <tr>\n",
       "      <th>0</th>\n",
       "      <td>Age</td>\n",
       "      <td>0.037862</td>\n",
       "    </tr>\n",
       "    <tr>\n",
       "      <th>8</th>\n",
       "      <td>Num_of_Delayed_Payment</td>\n",
       "      <td>0.035953</td>\n",
       "    </tr>\n",
       "    <tr>\n",
       "      <th>2</th>\n",
       "      <td>Monthly_Inhand_Salary</td>\n",
       "      <td>0.034054</td>\n",
       "    </tr>\n",
       "    <tr>\n",
       "      <th>1</th>\n",
       "      <td>Annual_Income</td>\n",
       "      <td>0.032972</td>\n",
       "    </tr>\n",
       "    <tr>\n",
       "      <th>4</th>\n",
       "      <td>Num_Credit_Card</td>\n",
       "      <td>0.027315</td>\n",
       "    </tr>\n",
       "    <tr>\n",
       "      <th>10</th>\n",
       "      <td>Num_Credit_Inquiries</td>\n",
       "      <td>0.026302</td>\n",
       "    </tr>\n",
       "    <tr>\n",
       "      <th>3</th>\n",
       "      <td>Num_Bank_Accounts</td>\n",
       "      <td>0.021519</td>\n",
       "    </tr>\n",
       "    <tr>\n",
       "      <th>18</th>\n",
       "      <td>Payment_Behaviour</td>\n",
       "      <td>0.021153</td>\n",
       "    </tr>\n",
       "    <tr>\n",
       "      <th>6</th>\n",
       "      <td>Num_of_Loan</td>\n",
       "      <td>0.016773</td>\n",
       "    </tr>\n",
       "    <tr>\n",
       "      <th>15</th>\n",
       "      <td>Payment_of_Min_Amount</td>\n",
       "      <td>0.005292</td>\n",
       "    </tr>\n",
       "    <tr>\n",
       "      <th>27</th>\n",
       "      <td>x0_Manager</td>\n",
       "      <td>0.004091</td>\n",
       "    </tr>\n",
       "    <tr>\n",
       "      <th>21</th>\n",
       "      <td>x0_Developer</td>\n",
       "      <td>0.004085</td>\n",
       "    </tr>\n",
       "    <tr>\n",
       "      <th>32</th>\n",
       "      <td>x0_Teacher</td>\n",
       "      <td>0.003990</td>\n",
       "    </tr>\n",
       "    <tr>\n",
       "      <th>22</th>\n",
       "      <td>x0_Doctor</td>\n",
       "      <td>0.003961</td>\n",
       "    </tr>\n",
       "    <tr>\n",
       "      <th>31</th>\n",
       "      <td>x0_Scientist</td>\n",
       "      <td>0.003856</td>\n",
       "    </tr>\n",
       "    <tr>\n",
       "      <th>26</th>\n",
       "      <td>x0_Lawyer</td>\n",
       "      <td>0.003567</td>\n",
       "    </tr>\n",
       "    <tr>\n",
       "      <th>29</th>\n",
       "      <td>x0_Media_Manager</td>\n",
       "      <td>0.003547</td>\n",
       "    </tr>\n",
       "    <tr>\n",
       "      <th>33</th>\n",
       "      <td>x0_Writer</td>\n",
       "      <td>0.003522</td>\n",
       "    </tr>\n",
       "    <tr>\n",
       "      <th>20</th>\n",
       "      <td>x0_Architect</td>\n",
       "      <td>0.003492</td>\n",
       "    </tr>\n",
       "    <tr>\n",
       "      <th>23</th>\n",
       "      <td>x0_Engineer</td>\n",
       "      <td>0.003204</td>\n",
       "    </tr>\n",
       "    <tr>\n",
       "      <th>30</th>\n",
       "      <td>x0_Musician</td>\n",
       "      <td>0.003098</td>\n",
       "    </tr>\n",
       "    <tr>\n",
       "      <th>24</th>\n",
       "      <td>x0_Entrepreneur</td>\n",
       "      <td>0.002965</td>\n",
       "    </tr>\n",
       "    <tr>\n",
       "      <th>28</th>\n",
       "      <td>x0_Mechanic</td>\n",
       "      <td>0.002799</td>\n",
       "    </tr>\n",
       "    <tr>\n",
       "      <th>25</th>\n",
       "      <td>x0_Journalist</td>\n",
       "      <td>0.002786</td>\n",
       "    </tr>\n",
       "    <tr>\n",
       "      <th>19</th>\n",
       "      <td>Monthly_Balance</td>\n",
       "      <td>0.000020</td>\n",
       "    </tr>\n",
       "  </tbody>\n",
       "</table>\n",
       "</div>"
      ],
      "text/plain": [
       "                      Column  Feature Importance\n",
       "12          Outstanding_Debt            0.178962\n",
       "11                Credit_Mix            0.114450\n",
       "5              Interest_Rate            0.071188\n",
       "9       Changed_Credit_Limit            0.062354\n",
       "14        Credit_History_Age            0.058455\n",
       "13  Credit_Utilization_Ratio            0.055425\n",
       "17   Amount_invested_monthly            0.054207\n",
       "7        Delay_from_due_date            0.049981\n",
       "16       Total_EMI_per_month            0.046800\n",
       "0                        Age            0.037862\n",
       "8     Num_of_Delayed_Payment            0.035953\n",
       "2      Monthly_Inhand_Salary            0.034054\n",
       "1              Annual_Income            0.032972\n",
       "4            Num_Credit_Card            0.027315\n",
       "10      Num_Credit_Inquiries            0.026302\n",
       "3          Num_Bank_Accounts            0.021519\n",
       "18         Payment_Behaviour            0.021153\n",
       "6                Num_of_Loan            0.016773\n",
       "15     Payment_of_Min_Amount            0.005292\n",
       "27                x0_Manager            0.004091\n",
       "21              x0_Developer            0.004085\n",
       "32                x0_Teacher            0.003990\n",
       "22                 x0_Doctor            0.003961\n",
       "31              x0_Scientist            0.003856\n",
       "26                 x0_Lawyer            0.003567\n",
       "29          x0_Media_Manager            0.003547\n",
       "33                 x0_Writer            0.003522\n",
       "20              x0_Architect            0.003492\n",
       "23               x0_Engineer            0.003204\n",
       "30               x0_Musician            0.003098\n",
       "24           x0_Entrepreneur            0.002965\n",
       "28               x0_Mechanic            0.002799\n",
       "25             x0_Journalist            0.002786\n",
       "19           Monthly_Balance            0.000020"
      ]
     },
     "execution_count": 8,
     "metadata": {},
     "output_type": "execute_result"
    }
   ],
   "source": [
    "import pandas as pd\n",
    "df_importance = pd.DataFrame({'Column': feature_names, 'Feature Importance': importances}, columns = ['Column', 'Feature Importance'])\n",
    "# Sort feature importances in descending order\n",
    "sorted_importance_df = df_importance.sort_values(by='Feature Importance', ascending=False)\n",
    "sorted_importance_df"
   ]
  },
  {
   "cell_type": "code",
   "execution_count": 9,
   "id": "9e143fe8",
   "metadata": {},
   "outputs": [
    {
     "data": {
      "text/plain": [
       "['Payment_of_Min_Amount',\n",
       " 'Monthly_Balance',\n",
       " 'x0_Architect',\n",
       " 'x0_Developer',\n",
       " 'x0_Doctor',\n",
       " 'x0_Engineer',\n",
       " 'x0_Entrepreneur',\n",
       " 'x0_Journalist',\n",
       " 'x0_Lawyer',\n",
       " 'x0_Manager',\n",
       " 'x0_Mechanic',\n",
       " 'x0_Media_Manager',\n",
       " 'x0_Musician',\n",
       " 'x0_Scientist',\n",
       " 'x0_Teacher',\n",
       " 'x0_Writer']"
      ]
     },
     "execution_count": 9,
     "metadata": {},
     "output_type": "execute_result"
    }
   ],
   "source": [
    "# Set the threshold cutoff to 0.01\n",
    "importance_threshold = 0.01\n",
    "\n",
    "# Assuming df_importance is a DataFrame with 'Symptom' as a column\n",
    "low_importance = df_importance[df_importance['Feature Importance'] <= importance_threshold]['Column']\n",
    "\n",
    "dropped_features = list(low_importance)\n",
    "\n",
    "dropped_features"
   ]
  },
  {
   "cell_type": "code",
   "execution_count": 10,
   "id": "317d8bbc",
   "metadata": {
    "scrolled": true
   },
   "outputs": [
    {
     "data": {
      "text/plain": [
       "Index(['Age', 'Annual_Income', 'Monthly_Inhand_Salary', 'Num_Bank_Accounts',\n",
       "       'Num_Credit_Card', 'Interest_Rate', 'Num_of_Loan',\n",
       "       'Delay_from_due_date', 'Num_of_Delayed_Payment', 'Changed_Credit_Limit',\n",
       "       'Num_Credit_Inquiries', 'Credit_Mix', 'Outstanding_Debt',\n",
       "       'Credit_Utilization_Ratio', 'Credit_History_Age', 'Total_EMI_per_month',\n",
       "       'Amount_invested_monthly', 'Payment_Behaviour'],\n",
       "      dtype='object')"
      ]
     },
     "execution_count": 10,
     "metadata": {},
     "output_type": "execute_result"
    }
   ],
   "source": [
    "# Assuming X_train is a DataFrame and dropped_features contains the features to be dropped\n",
    "X_train = X_train.drop(columns=dropped_features)\n",
    "X_train.columns"
   ]
  },
  {
   "cell_type": "code",
   "execution_count": 11,
   "id": "96968c38",
   "metadata": {},
   "outputs": [],
   "source": [
    "# select less rows for the models so that it doesn't take an hour to run"
   ]
  },
  {
   "cell_type": "code",
   "execution_count": 12,
   "id": "26bd531d",
   "metadata": {},
   "outputs": [
    {
     "name": "stdout",
     "output_type": "stream",
     "text": [
      "Bagging Classifier Accuracy after feature selection: 0.7523169601482854\n"
     ]
    }
   ],
   "source": [
    "# Drop the same features from X_test\n",
    "X_test = X_test.drop(columns=dropped_features)\n",
    "\n",
    "# Now rerun the model\n",
    "bagging.fit(X_train, y_train)\n",
    "y_pred_bagging = bagging.predict(X_test)\n",
    "bagging_score = accuracy_score(y_test, y_pred_bagging)\n",
    "print(\"Bagging Classifier Accuracy after feature selection:\", bagging_score)\n"
   ]
  },
  {
   "cell_type": "code",
   "execution_count": 13,
   "id": "a6cf3534",
   "metadata": {},
   "outputs": [
    {
     "name": "stdout",
     "output_type": "stream",
     "text": [
      "XGBoost Classifier Accuracy after feature selection: 0.7518535681186284\n"
     ]
    }
   ],
   "source": [
    "from sklearn.preprocessing import LabelEncoder\n",
    "import xgboost as xgb\n",
    "\n",
    "# Initialize LabelEncoder\n",
    "label_encoder = LabelEncoder()\n",
    "\n",
    "# Encode the target variable\n",
    "y_train_encoded = label_encoder.fit_transform(y_train)\n",
    "y_test_encoded = label_encoder.transform(y_test)\n",
    "\n",
    "# Instantiate XGBoost classifier\n",
    "xgb_classifier = xgb.XGBClassifier()\n",
    "\n",
    "# Train XGBoost classifier using the encoded target variables\n",
    "xgb_classifier.fit(X_train, y_train_encoded)\n",
    "\n",
    "# Predict\n",
    "y_pred_xgb = xgb_classifier.predict(X_test)\n",
    "\n",
    "# Evaluate accuracy\n",
    "accuracy_xgb = accuracy_score(y_test_encoded, y_pred_xgb)\n",
    "print(\"XGBoost Classifier Accuracy after feature selection:\", accuracy_xgb)"
   ]
  },
  {
   "cell_type": "markdown",
   "id": "747e3683",
   "metadata": {},
   "source": [
    "# Parameter Tuning Section"
   ]
  },
  {
   "cell_type": "markdown",
   "id": "afa9bf3a",
   "metadata": {},
   "source": [
    "The Bagging model has been chosen as the final model because of its simplicity, low computation time, and high accuracy value. In this section, we will attempt to approve upon its accuracy by using parameter tuning, and other techniques. "
   ]
  },
  {
   "cell_type": "code",
   "execution_count": 14,
   "id": "eff1c39b",
   "metadata": {},
   "outputs": [
    {
     "name": "stdout",
     "output_type": "stream",
     "text": [
      "Default parameters:\n",
      "base_estimator : deprecated\n",
      "bootstrap : True\n",
      "bootstrap_features : False\n",
      "estimator : None\n",
      "max_features : 1.0\n",
      "max_samples : 1.0\n",
      "n_estimators : 10\n",
      "n_jobs : None\n",
      "oob_score : False\n",
      "random_state : None\n",
      "verbose : 0\n",
      "warm_start : False\n"
     ]
    }
   ],
   "source": [
    "# Access the default parameters\n",
    "default_params = bagging.get_params()\n",
    "\n",
    "# This will help decide what hyperparameters to use in the gridsearch and what values to try based on what was used in the original model\n",
    "print(\"Default parameters:\")\n",
    "for param, value in default_params.items():\n",
    "    print(param, \":\", value)"
   ]
  },
  {
   "cell_type": "code",
   "execution_count": null,
   "id": "ff8925de",
   "metadata": {
    "scrolled": true
   },
   "outputs": [],
   "source": [
    "from sklearn.model_selection import GridSearchCV\n",
    "\n",
    "# Define the hyperparameters grid\n",
    "param_grid = {\n",
    "    'n_estimators': [200, 500, 1000],  # Number of base estimators\n",
    "    'max_samples': [0.7, 1.0, 1.3],  # Number of samples to draw from X to train each base estimator\n",
    "    'max_features': [0.5, 0.7, 1.0]   # Number of features to draw from X to train each base estimator\n",
    "}\n",
    "\n",
    "# Instantiate the grid search model\n",
    "grid_search = GridSearchCV(estimator=bagging, param_grid=param_grid, cv=5, scoring='accuracy')\n",
    "\n",
    "# Fit the grid search to the data\n",
    "grid_search.fit(X_train, y_train)\n",
    "\n",
    "# Print the best parameters\n",
    "print(\"Best Parameters:\", grid_search.best_params_)\n",
    "\n",
    "# Get the best estimator\n",
    "best_bagging = grid_search.best_estimator_\n",
    "\n",
    "# Predict with the best estimator\n",
    "y_pred_best_bagging = best_bagging.predict(X_test)\n",
    "\n",
    "# Evaluate accuracy\n",
    "best_bagging_score = accuracy_score(y_test, y_pred_best_bagging)\n",
    "print(\"Tuned Bagging Classifier Accuracy:\", best_bagging_score)\n"
   ]
  },
  {
   "cell_type": "code",
   "execution_count": null,
   "id": "1a056ad4",
   "metadata": {},
   "outputs": [],
   "source": [
    "import joblib\n",
    "joblib.dump(best_bagging, 'best_bagging_model.pkl')"
   ]
  },
  {
   "cell_type": "markdown",
   "id": "2b99e1ae",
   "metadata": {},
   "source": [
    "# Final Model Design"
   ]
  }
 ],
 "metadata": {
  "kernelspec": {
   "display_name": "Python 3 (ipykernel)",
   "language": "python",
   "name": "python3"
  },
  "language_info": {
   "codemirror_mode": {
    "name": "ipython",
    "version": 3
   },
   "file_extension": ".py",
   "mimetype": "text/x-python",
   "name": "python",
   "nbconvert_exporter": "python",
   "pygments_lexer": "ipython3",
   "version": "3.8.13"
  }
 },
 "nbformat": 4,
 "nbformat_minor": 5
}
