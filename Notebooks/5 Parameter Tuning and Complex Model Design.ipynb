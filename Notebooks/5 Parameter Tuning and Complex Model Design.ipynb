{
 "cells": [
  {
   "cell_type": "markdown",
   "id": "2ba8d0be",
   "metadata": {},
   "source": [
    "# Parameter Tuning and Complex Model Design"
   ]
  },
  {
   "cell_type": "code",
   "execution_count": 1,
   "id": "b3f6299b",
   "metadata": {},
   "outputs": [],
   "source": [
    "# Redo the original bagging model for comparison purposes"
   ]
  },
  {
   "cell_type": "code",
   "execution_count": 2,
   "id": "c086c4a6",
   "metadata": {},
   "outputs": [],
   "source": [
    "import pickle\n",
    "\n",
    "# Load the data from the pickle file\n",
    "with open('train_test_data.pkl', 'rb') as f:\n",
    "    X_train, X_test, y_train, y_test = pickle.load(f)\n"
   ]
  },
  {
   "cell_type": "code",
   "execution_count": 3,
   "id": "2ffe4835",
   "metadata": {},
   "outputs": [],
   "source": [
    "from sklearn.model_selection import train_test_split\n",
    "from sklearn.metrics import accuracy_score\n",
    "from sklearn.ensemble import BaggingClassifier"
   ]
  },
  {
   "cell_type": "code",
   "execution_count": 4,
   "id": "e4722f80",
   "metadata": {},
   "outputs": [],
   "source": [
    "# Excluding the unncessary columns from the input features for the models by dropping them now\n",
    "columns_to_exclude = ['ID', 'Customer_ID', 'Month', 'SSN', 'Type_of_Loan', 'Name']  # List of columns to exclude\n",
    "X_train = X_train.drop(columns=columns_to_exclude)\n",
    "X_test = X_test.drop(columns=columns_to_exclude)"
   ]
  },
  {
   "cell_type": "code",
   "execution_count": 5,
   "id": "ed547e72",
   "metadata": {},
   "outputs": [
    {
     "name": "stdout",
     "output_type": "stream",
     "text": [
      "Bagging Classifier Accuracy: 0.7900834105653383\n"
     ]
    }
   ],
   "source": [
    "# Ensemble Methods - Bagging\n",
    "bagging = BaggingClassifier()\n",
    "bagging.fit(X_train, y_train)\n",
    "y_pred_bagging = bagging.predict(X_test)\n",
    "bagging_score = accuracy_score(y_test, y_pred_bagging)\n",
    "print(\"Bagging Classifier Accuracy:\", bagging_score)"
   ]
  },
  {
   "cell_type": "code",
   "execution_count": 6,
   "id": "cf75b8ce",
   "metadata": {},
   "outputs": [
    {
     "name": "stdout",
     "output_type": "stream",
     "text": [
      "Default parameters:\n",
      "base_estimator : deprecated\n",
      "bootstrap : True\n",
      "bootstrap_features : False\n",
      "estimator : None\n",
      "max_features : 1.0\n",
      "max_samples : 1.0\n",
      "n_estimators : 10\n",
      "n_jobs : None\n",
      "oob_score : False\n",
      "random_state : None\n",
      "verbose : 0\n",
      "warm_start : False\n"
     ]
    }
   ],
   "source": [
    "# Access the default parameters\n",
    "default_params = bagging.get_params()\n",
    "\n",
    "# This will help decide what hyperparameters to use in the gridsearch and what values to try based on what was used in the original model\n",
    "print(\"Default parameters:\")\n",
    "for param, value in default_params.items():\n",
    "    print(param, \":\", value)"
   ]
  },
  {
   "cell_type": "markdown",
   "id": "747e3683",
   "metadata": {},
   "source": [
    "# Parameter Tuning Section"
   ]
  },
  {
   "cell_type": "markdown",
   "id": "afa9bf3a",
   "metadata": {},
   "source": [
    "The Bagging model has been chosen as the final model because of its simplicity, low computation time, and high accuracy value. In this section, we will attempt to approve upon its accuracy by using parameter tuning, and other techniques. "
   ]
  },
  {
   "cell_type": "code",
   "execution_count": null,
   "id": "ff8925de",
   "metadata": {
    "scrolled": true
   },
   "outputs": [],
   "source": [
    "from sklearn.model_selection import GridSearchCV\n",
    "\n",
    "# Define the hyperparameters grid\n",
    "param_grid = {\n",
    "    'n_estimators': [200, 500, 1000],  # Number of base estimators\n",
    "    'max_samples': [0.7, 1.0, 1.3],  # Number of samples to draw from X to train each base estimator\n",
    "    'max_features': [0.5, 0.7, 1.0]   # Number of features to draw from X to train each base estimator\n",
    "}\n",
    "\n",
    "# Instantiate the grid search model\n",
    "grid_search = GridSearchCV(estimator=bagging, param_grid=param_grid, cv=5, scoring='accuracy')\n",
    "\n",
    "# Fit the grid search to the data\n",
    "grid_search.fit(X_train, y_train)\n",
    "\n",
    "# Print the best parameters\n",
    "print(\"Best Parameters:\", grid_search.best_params_)\n",
    "\n",
    "# Get the best estimator\n",
    "best_bagging = grid_search.best_estimator_\n",
    "\n",
    "# Predict with the best estimator\n",
    "y_pred_best_bagging = best_bagging.predict(X_test)\n",
    "\n",
    "# Evaluate accuracy\n",
    "best_bagging_score = accuracy_score(y_test, y_pred_best_bagging)\n",
    "print(\"Tuned Bagging Classifier Accuracy:\", best_bagging_score)\n"
   ]
  },
  {
   "cell_type": "code",
   "execution_count": null,
   "id": "1a056ad4",
   "metadata": {},
   "outputs": [],
   "source": [
    "import joblib\n",
    "joblib.dump(best_bagging, 'best_bagging_model.pkl')"
   ]
  },
  {
   "cell_type": "markdown",
   "id": "2b99e1ae",
   "metadata": {},
   "source": [
    "# Final Model Design"
   ]
  }
 ],
 "metadata": {
  "kernelspec": {
   "display_name": "Python 3 (ipykernel)",
   "language": "python",
   "name": "python3"
  },
  "language_info": {
   "codemirror_mode": {
    "name": "ipython",
    "version": 3
   },
   "file_extension": ".py",
   "mimetype": "text/x-python",
   "name": "python",
   "nbconvert_exporter": "python",
   "pygments_lexer": "ipython3",
   "version": "3.8.13"
  }
 },
 "nbformat": 4,
 "nbformat_minor": 5
}
