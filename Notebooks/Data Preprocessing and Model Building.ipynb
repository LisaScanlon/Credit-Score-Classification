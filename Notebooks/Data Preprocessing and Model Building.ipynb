{
 "cells": [
  {
   "cell_type": "code",
   "execution_count": 1,
   "id": "258d3dd2",
   "metadata": {},
   "outputs": [],
   "source": [
    "import pandas as pd\n",
    "data = pd.read_csv('cleaned_train.csv')"
   ]
  },
  {
   "cell_type": "code",
   "execution_count": 2,
   "id": "bdcad83b",
   "metadata": {},
   "outputs": [
    {
     "data": {
      "text/plain": [
       "Index(['ID', 'Customer_ID', 'Month', 'Name', 'Age', 'SSN', 'Occupation',\n",
       "       'Annual_Income', 'Monthly_Inhand_Salary', 'Num_Bank_Accounts',\n",
       "       'Num_Credit_Card', 'Interest_Rate', 'Num_of_Loan', 'Type_of_Loan',\n",
       "       'Delay_from_due_date', 'Num_of_Delayed_Payment', 'Changed_Credit_Limit',\n",
       "       'Num_Credit_Inquiries', 'Credit_Mix', 'Outstanding_Debt',\n",
       "       'Credit_Utilization_Ratio', 'Credit_History_Age',\n",
       "       'Payment_of_Min_Amount', 'Total_EMI_per_month',\n",
       "       'Amount_invested_monthly', 'Payment_Behaviour', 'Monthly_Balance',\n",
       "       'Credit_Score'],\n",
       "      dtype='object')"
      ]
     },
     "execution_count": 2,
     "metadata": {},
     "output_type": "execute_result"
    }
   ],
   "source": [
    "data.columns"
   ]
  },
  {
   "cell_type": "code",
   "execution_count": 3,
   "id": "b25203f8",
   "metadata": {
    "scrolled": true
   },
   "outputs": [
    {
     "name": "stdout",
     "output_type": "stream",
     "text": [
      "ID                           object\n",
      "Customer_ID                  object\n",
      "Month                        object\n",
      "Name                         object\n",
      "Age                           int64\n",
      "SSN                          object\n",
      "Occupation                   object\n",
      "Annual_Income               float64\n",
      "Monthly_Inhand_Salary       float64\n",
      "Num_Bank_Accounts             int64\n",
      "Num_Credit_Card               int64\n",
      "Interest_Rate                 int64\n",
      "Num_of_Loan                   int64\n",
      "Type_of_Loan                 object\n",
      "Delay_from_due_date           int64\n",
      "Num_of_Delayed_Payment        int64\n",
      "Changed_Credit_Limit        float64\n",
      "Num_Credit_Inquiries          int64\n",
      "Credit_Mix                   object\n",
      "Outstanding_Debt            float64\n",
      "Credit_Utilization_Ratio    float64\n",
      "Credit_History_Age          float64\n",
      "Payment_of_Min_Amount        object\n",
      "Total_EMI_per_month         float64\n",
      "Amount_invested_monthly     float64\n",
      "Payment_Behaviour            object\n",
      "Monthly_Balance             float64\n",
      "Credit_Score                 object\n",
      "dtype: object\n"
     ]
    }
   ],
   "source": [
    "# Display the data types of each column\n",
    "print(data.dtypes)"
   ]
  },
  {
   "cell_type": "code",
   "execution_count": 4,
   "id": "b5ec0e7d",
   "metadata": {},
   "outputs": [],
   "source": [
    "from sklearn.model_selection import train_test_split\n",
    "from sklearn.preprocessing import StandardScaler, OneHotEncoder\n",
    "from sklearn.impute import SimpleImputer\n",
    "from sklearn.compose import ColumnTransformer\n",
    "from sklearn.pipeline import Pipeline\n",
    "from sklearn.preprocessing import LabelEncoder"
   ]
  },
  {
   "cell_type": "code",
   "execution_count": 5,
   "id": "d9ed2e83",
   "metadata": {},
   "outputs": [],
   "source": [
    "# Splitting features and target variable\n",
    "X = data.drop(columns=['Credit_Score'])\n",
    "y = data['Credit_Score']"
   ]
  },
  {
   "cell_type": "code",
   "execution_count": 6,
   "id": "1dbba3f4",
   "metadata": {},
   "outputs": [],
   "source": [
    "# Splitting the dataset into train and test sets\n",
    "X_train, X_test, y_train, y_test = train_test_split(X, y, test_size=0.2, random_state=101)"
   ]
  },
  {
   "cell_type": "code",
   "execution_count": null,
   "id": "40764864",
   "metadata": {},
   "outputs": [],
   "source": [
    "# Define ordinal mappings for the variables that should be label encoded\n",
    "credit_mix_mapping = {'Good': 2, 'Standard': 1, 'Bad': 0}\n",
    "payment_of_min_amount_mapping = {'Yes': 2, 'NM': 1, 'No': 0}\n",
    "payment_behavior_mapping = {\n",
    "    'Low_spent_Large_value_payments': 5,\n",
    "    'Low_spent_Medium_value_payments': 4,\n",
    "    'Low_spent_Small_value_payments': 3,\n",
    "    'High_spent_Large_value_payments': 2,\n",
    "    'High_spent_Medium_value_payments': 1,\n",
    "    'High_spent_Small_value_payments': 0\n",
    "}\n",
    "\n",
    "# Apply LabelEncoder with the above ordinal mapping\n",
    "label_encoder = LabelEncoder()\n",
    "\n",
    "X_train['Credit_Mix'] = X_train['Credit_Mix'].map(credit_mix_mapping)\n",
    "X_test['Credit_Mix'] = X_test['Credit_Mix'].map(credit_mix_mapping)\n",
    "\n",
    "X_train['Payment_of_Min_Amount'] = X_train['Payment_of_Min_Amount'].map(payment_of_min_amount_mapping)\n",
    "X_test['Payment_of_Min_Amount'] = X_test['Payment_of_Min_Amount'].map(payment_of_min_amount_mapping)\n",
    "\n",
    "X_train['Payment_Behaviour'] = X_train['Payment_Behaviour'].map(payment_behavior_mapping)\n",
    "X_test['Payment_Behaviour'] = X_test['Payment_Behaviour'].map(payment_behavior_mapping)\n",
    "\n",
    "# Combine the training and test sets for OneHotEncoder fitting\n",
    "combined_data = pd.concat([X_train, X_test])\n",
    "\n",
    "# Apply OneHotEncoder for remaining categorical columns that should be in the models\n",
    "categorical_columns = ['Occupation', 'Name'] \n",
    "\n",
    "for column in categorical_columns:\n",
    "    # Perform one-hot encoding\n",
    "    one_hot_encoder = OneHotEncoder(drop='first', sparse=False)\n",
    "    combined_encoded = one_hot_encoder.fit_transform(combined_data[[column]])\n",
    "    \n",
    "    # Convert the encoded features to DataFrames\n",
    "    combined_encoded_df = pd.DataFrame(combined_encoded, columns=one_hot_encoder.get_feature_names_out([column]))\n",
    "    \n",
    "    # Split the combined_encoded_df back into training and test sets\n",
    "    X_train_encoded_df = combined_encoded_df[:len(X_train)]\n",
    "    X_test_encoded_df = combined_encoded_df[len(X_train):]\n",
    "    \n",
    "    # Concatenate the encoded features with the original DataFrames\n",
    "    X_train = pd.concat([X_train.drop(columns=[column]), X_train_encoded_df], axis=1)\n",
    "    X_test = pd.concat([X_test.drop(columns=[column]), X_test_encoded_df], axis=1)\n"
   ]
  },
  {
   "cell_type": "code",
   "execution_count": null,
   "id": "88856590",
   "metadata": {},
   "outputs": [],
   "source": [
    "from sklearn.preprocessing import RobustScaler, MinMaxScaler\n",
    "from joblib import Parallel, delayed\n",
    "\n",
    "# Define the numeric columns that will be in the models\n",
    "numeric_columns = ['Age', 'Annual_Income', 'Monthly_Inhand_Salary', 'Num_Bank_Accounts', 'Num_Credit_Card',\n",
    "                   'Interest_Rate', 'Num_of_Loan', 'Delay_from_due_date', 'Num_of_Delayed_Payment',\n",
    "                   'Changed_Credit_Limit', 'Num_Credit_Inquiries', 'Outstanding_Debt', 'Credit_Utilization_Ratio',\n",
    "                   'Credit_History_Age', 'Total_EMI_per_month', 'Amount_invested_monthly', 'Monthly_Balance']\n",
    "\n",
    "# Define the appropriate scalers for each column based on the columns characteristics\n",
    "scalers = {\n",
    "    'Age': MinMaxScaler(),\n",
    "    'Annual_Income': RobustScaler(),\n",
    "    'Monthly_Inhand_Salary': RobustScaler(),\n",
    "    'Num_Bank_Accounts': MinMaxScaler(),\n",
    "    'Num_Credit_Card': MinMaxScaler(),\n",
    "    'Interest_Rate': MinMaxScaler(),\n",
    "    'Num_of_Loan': MinMaxScaler(),\n",
    "    'Delay_from_due_date': RobustScaler(),\n",
    "    'Num_of_Delayed_Payment': RobustScaler(),\n",
    "    'Changed_Credit_Limit': RobustScaler(),\n",
    "    'Num_Credit_Inquiries': MinMaxScaler(),\n",
    "    'Outstanding_Debt': RobustScaler(),\n",
    "    'Credit_Utilization_Ratio': MinMaxScaler(),\n",
    "    'Credit_History_Age': MinMaxScaler(),\n",
    "    'Total_EMI_per_month': MinMaxScaler(),\n",
    "    'Amount_invested_monthly': MinMaxScaler(),\n",
    "    'Monthly_Balance': MinMaxScaler()\n",
    "}\n",
    "\n",
    "# Function to scale a single column that will run through each of them\n",
    "def scale_column(column):\n",
    "    scaler = scalers[column]\n",
    "    X_train[column] = scaler.fit_transform(X_train[[column]])\n",
    "    X_test[column] = scaler.transform(X_test[[column]])\n",
    "\n",
    "# Use joblib to parallelize scaling across numeric columns to speed things up because it takes forever\n",
    "Parallel(n_jobs=-1)(delayed(scale_column)(column) for column in numeric_columns)\n",
    "\n",
    "# HAVING ISSUES WITH THIS PART"
   ]
  },
  {
   "cell_type": "code",
   "execution_count": null,
   "id": "7c5a4746",
   "metadata": {},
   "outputs": [],
   "source": [
    "# To show that the dataset has been preprocessed\n",
    "X_train.head()"
   ]
  },
  {
   "cell_type": "code",
   "execution_count": null,
   "id": "5f38cad0",
   "metadata": {},
   "outputs": [],
   "source": [
    "from sklearn.linear_model import LogisticRegression\n",
    "from sklearn.metrics import accuracy_score, classification_report\n",
    "\n",
    "# Excluding non-numeric columns from input features\n",
    "columns_to_exclude = ['ID', 'Customer_ID', 'Month', 'SSN', 'Type_of_Loan']  # List of non-numeric columns to exclude\n",
    "X_train = X_train.drop(columns=columns_to_exclude)\n",
    "X_test = X_test.drop(columns=columns_to_exclude)\n",
    "\n",
    "# Train the logistic regression model\n",
    "logistic_regression_model = LogisticRegression()\n",
    "logistic_regression_model.fit(X_train, y_train)\n",
    "\n",
    "# Predictions using logistic regression model\n",
    "logistic_regression_preds = logistic_regression_model.predict(X_test)\n",
    "\n",
    "# Evaluate the logistic regression model\n",
    "logistic_regression_accuracy = logistic_regression_model.score(X_test, y_test)\n",
    "print(\"Logistic Regression Accuracy:\", logistic_regression_accuracy)"
   ]
  }
 ],
 "metadata": {
  "kernelspec": {
   "display_name": "Python 3 (ipykernel)",
   "language": "python",
   "name": "python3"
  },
  "language_info": {
   "codemirror_mode": {
    "name": "ipython",
    "version": 3
   },
   "file_extension": ".py",
   "mimetype": "text/x-python",
   "name": "python",
   "nbconvert_exporter": "python",
   "pygments_lexer": "ipython3",
   "version": "3.8.13"
  }
 },
 "nbformat": 4,
 "nbformat_minor": 5
}
